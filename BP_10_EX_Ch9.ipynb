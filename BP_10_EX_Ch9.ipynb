{
  "nbformat": 4,
  "nbformat_minor": 0,
  "metadata": {
    "colab": {
      "provenance": [],
      "authorship_tag": "ABX9TyNY8PUGG26+70aKJ2u3Ecrq",
      "include_colab_link": true
    },
    "kernelspec": {
      "name": "python3",
      "display_name": "Python 3"
    },
    "language_info": {
      "name": "python"
    }
  },
  "cells": [
    {
      "cell_type": "markdown",
      "metadata": {
        "id": "view-in-github",
        "colab_type": "text"
      },
      "source": [
        "<a href=\"https://colab.research.google.com/github/jeonhyeonjoon1/BP_10_Ch9/blob/main/BP_10_EX_Ch9.ipynb\" target=\"_parent\"><img src=\"https://colab.research.google.com/assets/colab-badge.svg\" alt=\"Open In Colab\"/></a>"
      ]
    },
    {
      "cell_type": "code",
      "execution_count": 2,
      "metadata": {
        "colab": {
          "base_uri": "https://localhost:8080/"
        },
        "id": "F0lNhYzpqQeN",
        "outputId": "1a632bb7-1e9b-4847-d1d9-94d83ece79fc"
      },
      "outputs": [
        {
          "output_type": "stream",
          "name": "stdout",
          "text": [
            "정수를 입력하시오: 10\n",
            "정수를 입력하시오: 20\n",
            "정수를 입력하시오: 30\n",
            "정수를 입력하시오: 40\n",
            "정수를 입력하시오: 50\n",
            "평균= 30.0\n"
          ]
        }
      ],
      "source": [
        "alist = []      #공백리스트 생성\n",
        "sum = 0         #변수sum에 0을 저장\n",
        "for i in range(5): #들여쓰기 된 부분을 5만큼 반복\n",
        " i = int(input(\"정수를 입력하시오: \"))  #i에 해당값을 저장,사용자에게 값을 받고 그값을 숫자열로 변환\n",
        " alist.append(i) #alist에 i를 저장\n",
        "for i in alist: #alist에 있는 값들을 모두 반복\n",
        " sum += i       #0으로 설정된 sum값에 i를 더한후 그값을 다시 sum으로 설정\n",
        "avg = sum/len(alist)  #변수avg에 해당값을 저장, sum값을 alist에 저장된 갯수만큼 나눔\n",
        "print(\"평균=\", avg)   #해당 값을 출력"
      ]
    }
  ]
}