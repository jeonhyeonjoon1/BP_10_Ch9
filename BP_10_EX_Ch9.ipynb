{
  "nbformat": 4,
  "nbformat_minor": 0,
  "metadata": {
    "colab": {
      "provenance": [],
      "authorship_tag": "ABX9TyPmUXeOXSWRC+IA2NncYbNb",
      "include_colab_link": true
    },
    "kernelspec": {
      "name": "python3",
      "display_name": "Python 3"
    },
    "language_info": {
      "name": "python"
    }
  },
  "cells": [
    {
      "cell_type": "markdown",
      "metadata": {
        "id": "view-in-github",
        "colab_type": "text"
      },
      "source": [
        "<a href=\"https://colab.research.google.com/github/jeonhyeonjoon1/BP_10_Ch9/blob/main/BP_10_EX_Ch9.ipynb\" target=\"_parent\"><img src=\"https://colab.research.google.com/assets/colab-badge.svg\" alt=\"Open In Colab\"/></a>"
      ]
    },
    {
      "cell_type": "code",
      "execution_count": null,
      "metadata": {
        "colab": {
          "base_uri": "https://localhost:8080/"
        },
        "id": "F0lNhYzpqQeN",
        "outputId": "1a632bb7-1e9b-4847-d1d9-94d83ece79fc"
      },
      "outputs": [
        {
          "output_type": "stream",
          "name": "stdout",
          "text": [
            "정수를 입력하시오: 10\n",
            "정수를 입력하시오: 20\n",
            "정수를 입력하시오: 30\n",
            "정수를 입력하시오: 40\n",
            "정수를 입력하시오: 50\n",
            "평균= 30.0\n"
          ]
        }
      ],
      "source": [
        "alist = []      #공백리스트 생성\n",
        "sum = 0         #변수sum에 0을 저장\n",
        "for i in range(5): #들여쓰기 된 부분을 5만큼 반복\n",
        " i = int(input(\"정수를 입력하시오: \"))  #i에 해당값을 저장,사용자에게 값을 받고 그값을 숫자열로 변환\n",
        " alist.append(i) #alist에 i를 저장\n",
        "for i in alist: #alist에 있는 값들을 모두 반복\n",
        " sum += i       #0으로 설정된 sum값에 i를 더한후 그값을 다시 sum으로 설정\n",
        "avg = sum/len(alist)  #변수avg에 해당값을 저장, sum값을 alist에 저장된 갯수만큼 나눔\n",
        "print(\"평균=\", avg)   #해당 값을 출력"
      ]
    },
    {
      "cell_type": "code",
      "source": [
        "import random                     #랜덤 함수를 불러옴\n",
        "counters = [0, 0, 0, 0, 0, 0]     #counter라는 목록을 생성하고 방 여섯개를 생성\n",
        "for i in range(1000):             #i를1000번 반복\n",
        " value = random.randint(0, 5)     #변수에 해당 값을 저장 0~5중 하나의 값을 랜덤으로 생성\n",
        " counters[value] = counters[value] + 1  #나온 값에 1을 더해 0~5를 1~6으로 변경\n",
        "\n",
        "for i in range(6) :               #i를 6번 반복\n",
        " print(\"주사위가 \", i+1, \"인 경우는 \", counters[i], \"번\") #주사위가 1이나오면 0번방에 1이 추가되도록 설정 후 출력"
      ],
      "metadata": {
        "id": "fNbnapfPrgoC",
        "outputId": "b271a541-f985-46d7-8f7a-d774ddc2e880",
        "colab": {
          "base_uri": "https://localhost:8080/"
        }
      },
      "execution_count": null,
      "outputs": [
        {
          "output_type": "stream",
          "name": "stdout",
          "text": [
            "주사위가  1 인 경우는  162 번\n",
            "주사위가  2 인 경우는  171 번\n",
            "주사위가  3 인 경우는  158 번\n",
            "주사위가  4 인 경우는  173 번\n",
            "주사위가  5 인 경우는  152 번\n",
            "주사위가  6 인 경우는  184 번\n"
          ]
        }
      ]
    },
    {
      "cell_type": "code",
      "source": [
        "contacts = { }        #contacts라는 리스트를 생성\n",
        "while True:           #조건문 생성\n",
        " name = input(\"(입력모드)이름을 입력하시오: \")  #사용자에게 값을 입력받고 name변수에 저장\n",
        " if not name:       #값이 없을경우 break를 써 반복 종료\n",
        "  break;  \n",
        " tel = input(\"전화번호를 입력하시오: \")        #사용자에게 값을 입력받고 tel변수에 저장\n",
        " contacts[name] = tel                          #목록에 저장된 이름값에 전화번호값을 저장\n",
        "while True:          #조건문 생성\n",
        " name = input(\"(검색모드)이름을 입력하시오: \") #사용자에게 값을 입력받음\n",
        " if not name:       #값이 없을경우 종료\n",
        "  break;\n",
        " if name in contacts :         #값이 있을 경우 저장된 값을 출력\n",
        "  print(name, \"의 전화번호는\", contacts[name], \"입니다.\")"
      ],
      "metadata": {
        "id": "e8Dju0z3scQ1",
        "outputId": "321d058b-fc2f-4023-d6b5-e65d21bc5228",
        "colab": {
          "base_uri": "https://localhost:8080/"
        }
      },
      "execution_count": null,
      "outputs": [
        {
          "output_type": "stream",
          "name": "stdout",
          "text": [
            "(입력모드)이름을 입력하시오: 홍길동\n",
            "전화번호를 입력하시오: 111-2222\n",
            "(입력모드)이름을 입력하시오: 김철수\n",
            "전화번호를 입력하시오: 222-3333\n",
            "(입력모드)이름을 입력하시오: \n",
            "(검색모드)이름을 입력하시오: 홍길동\n",
            "홍길동 의 전화번호는 111-2222 입니다.\n"
          ]
        }
      ]
    },
    {
      "cell_type": "code",
      "source": [
        "import turtle             #터틀그래픽을 불러옴\n",
        "import random             #랜덤 함수를 불러옴\n",
        "t = turtle.Turtle()       #변수t에 해당값을 저장\n",
        "t.shape(\"turtle\")         #펜모양을 거북이로 설정\n",
        "def draw_square(x, y, c): #함수를생성하고 매개변수 3개를 설정\n",
        " t.up()                   #펜을 듬\n",
        " t.goto(x, y)             #해당 좌표로 이동\n",
        " t.down()                 #펜을 내림\n",
        " t.color(\"black\",c)       #테두리 색을 검정색, 내부색은 매개변수c로 설정\n",
        " t.begin_fill()           #색을 채우는 시작지점\n",
        " t.forward(100)           #앞으로 100이동\n",
        " t.left(90)               #왼쪽으로 90도 회전\n",
        " t.forward(100)           \n",
        " t.left(90)\n",
        " t.forward(100)\n",
        " t.left(90)\n",
        " t.forward(100)\n",
        " t.left(90)\n",
        " t.end_fill()            #색을 채우는 끝 부분\n",
        "for c in [\"yellow\", \"red\", \"purple\", \"blue\"]: #c를 괄호안에있는 색 하나씩 설정하고 반복\n",
        " x = random.randint(-100, 100)                #x를 -100부터100중 랜덤으로 설정\n",
        " y = random.randint(-100, 100)                #x를 -100부터100중 랜덤으로 설정\n",
        " draw_square(x, y, c)                         #해당 함수를 살행"
      ],
      "metadata": {
        "id": "S-lkFc_fvXqE"
      },
      "execution_count": null,
      "outputs": []
    },
    {
      "cell_type": "code",
      "source": [
        "import turtle         #터틀그래픽을 불러옴\n",
        "import random         #랜덤 함수를 불러옴\n",
        "t = turtle.Turtle()   #변수t에 해당값을 저장\n",
        "s = turtle.Screen()   #변수s에 해당값을 저장\n",
        "def draw_shape(t, c, length, sides, x, y): #함수를 규정하고 매개변수 6개를 생성\n",
        " t.up()               #펜을 듬\n",
        " t.goto(x, y)         #해당 좌표로 이동\n",
        " t.down()             #펜을 내림\n",
        " t.fillcolor(c)       #칠할 색을 c로 설정\n",
        " angle = 360.0 / sides #변수에 해당 값을 저장 360도를 매개변수side로 나눔\n",
        " t.begin_fill()        #색을 채우는 시작지점\n",
        " for dist in range(sides): #dist를 sides만큼 반복\n",
        "  t.forward(length)        #length만큼 앞으로 이동\n",
        "  t.left(angle)            #angle만큼 왼쪽으로 회전\n",
        " t.end_fill()          #색을 채우는 끝 부분\n",
        "for i in range(10):    #i를 10만큼 반복 (i가 따로없을 경우 아래들여쓰기된 내용)\n",
        " color = random.choice([ 'white', 'yellow', 'blue', 'skyblue', 'orange', 'green' ])  #변수color에 해당 값들중 하나를 랜덤으로 선택후 저장\n",
        " side_length = random.randint(10, 100)   #변수에 10~100중 랜덤한 값 하나를 저장\n",
        " sides = random.randint(3, 10)           #변수에 랜덤한 값을 저장\n",
        " x = random.randint(-200, 200)           \n",
        " y = random.randint(-200, 200)\n",
        " draw_shape(t, color, side_length, sides, x, y) #규정된 함수를 실행"
      ],
      "metadata": {
        "id": "J54NAwVew7bB"
      },
      "execution_count": null,
      "outputs": []
    },
    {
      "cell_type": "code",
      "source": [
        "import turtle            #터틀그래픽을 불러옴\n",
        "import random            #랜덤함수를 불러옴\n",
        "t = turtle.Turtle()      #변수t에 값 저장\n",
        "s = turtle.Screen()      #변수s에 값 저장\n",
        "s.bgcolor(\"black\")       #배경색을 검정색으로 설정\n",
        "def draw_star(aturtle, colour, side_length, x, y): #매개변수가 5개인 함수를 생성\n",
        " aturtle.color(colour)  #거북이색을 colour로 설정\n",
        " aturtle.begin_fill()   #색을 채우는 시작부분\n",
        " aturtle.penup()        #펜을 듬\n",
        " aturtle.goto(x, y)     #해당 좌표로 거북이를 이동\n",
        " aturtle.pendown()      #펜을 내림\n",
        " for i in range(5):     #들여쓰기된 부분을 5번 반복\n",
        "  aturtle.forward(side_length) #괄호 안의 값만큼 앞으로 이동\n",
        "  aturtle.right(144)   #144도만큼 오른쪽으로 회전\n",
        "  aturtle.forward(side_length) \n",
        " aturtle.end_fill()    #색을 채우는 끝 부분\n",
        "for i in range(20):    #아래 들여쓰기된 부분을 20번 반복\n",
        " color = random.choice([ 'white', 'yellow', 'blue', 'skyblue', 'orange', 'green' ]) #괄호한의 값중 하나를 랜덤으로 선택해 변수에 저장\n",
        " side_length = random.randint(10, 100) #랜덤한 값을 변수에 저장\n",
        " x = random.randint(-200, 200)       \n",
        " y = random.randint(-200, 200)\n",
        " draw_star(t, color, side_length, x, y) #규정된 함수를 실행"
      ],
      "metadata": {
        "id": "nmB0-3ya0Njc"
      },
      "execution_count": null,
      "outputs": []
    },
    {
      "cell_type": "code",
      "source": [
        "domains = { \"kr\": \"대한민국\", \"us\": \"미국\",\"jp\": \"일본\", \"de\": \"독일\", \"sk\": \"슬로바키아\", \"hu\": \"헝가리\", \"no\": \"노르웨이\" } #리스트를 생성하고 값들을 저장\n",
        "for k, v in domains.items(): #변수 k v를 설정하고 리스트내의 갯수만큼 반복\n",
        " print (k, \": \", v)          #\"kr : 대한민국\"형식으로 나오도록 변수를 배치"
      ],
      "metadata": {
        "id": "SvsePkxy2AVr",
        "outputId": "628325d0-d35d-4869-91fe-9fcc94784c1a",
        "colab": {
          "base_uri": "https://localhost:8080/"
        }
      },
      "execution_count": 17,
      "outputs": [
        {
          "output_type": "stream",
          "name": "stdout",
          "text": [
            "kr :  대한민국\n",
            "us :  미국\n",
            "jp :  일본\n",
            "de :  독일\n",
            "sk :  슬로바키아\n",
            "hu :  헝가리\n",
            "no :  노르웨이\n"
          ]
        }
      ]
    },
    {
      "cell_type": "code",
      "source": [
        "problems = {'파이썬': '최근에 가장 떠오르는 프로그래밍 언어', #리스트를 생성하고 값을 저장\n",
        " '변수': '데이터를 저장하는 메모리 공간',\n",
        " '함수': '작업을 수행하는 문장들의 집합에 이름을 붙인것',\n",
        " '리스트': '서로 관련이 없는 항목들의 모임',}\n",
        "def show_words(problems):             #매개변수가 한개인 함수를 생성\n",
        " display_message = \"\"                 #변수에 값을 저장\n",
        " i=1                                  #변수에 값을 저장\n",
        " for word in problems.keys():         #리스트problem안의 갯수만큼 반복\n",
        "  display_message += \"(\"+str(i)+\")\"   #번호가 증가하며 나오도록 변수를 계속 1씩 더하고 문자열로 출력\n",
        "  display_message += word + \" \"       #항목이 다르게 나오도록 설정\n",
        "  i+=1\n",
        " print( display_message)              #해당 값을 출력\n",
        "for meaning in problems.values():     #리스트안의 값 갯수만큼 반복\n",
        " print(\"다음은 어떤 단어에 대한 설명일까요? \") #해당 값을 출력\n",
        " print(\"\\\"\"+meaning+\"\\\"\")\n",
        " correct = False     #변수에 값을 저장 \n",
        " while not correct:  #조건문 생성\n",
        "  show_words(problems) #해당 함수를 실행\n",
        "  guessed_word = input(\"\") #사용자에게 값을 받음\n",
        "  if problems[guessed_word] == meaning: #사용자에게 받은 값과 정답이 같은지 확인 같을경우 아래 들여쓰기된 내용을 실행\n",
        "   print(\"정답입니다. !\")     \n",
        "   correct = True\n",
        "  else:          #값이 다를경우 아래 값을 실행\n",
        "   print(\"정답이 아닙니다.\")"
      ],
      "metadata": {
        "id": "su9Wjw7v3inA",
        "outputId": "888df79e-7298-4609-ae78-dc06cdf8e6f2",
        "colab": {
          "base_uri": "https://localhost:8080/"
        }
      },
      "execution_count": 16,
      "outputs": [
        {
          "output_type": "stream",
          "name": "stdout",
          "text": [
            "다음은 어떤 단어에 대한 설명일까요? \n",
            "\"최근에 가장 떠오르는 프로그래밍 언어\"\n",
            "(1)파이썬 (2)변수 (3)함수 (4)리스트 \n",
            "파이썬\n",
            "정답입니다. !\n",
            "다음은 어떤 단어에 대한 설명일까요? \n",
            "\"데이터를 저장하는 메모리 공간\"\n",
            "(1)파이썬 (2)변수 (3)함수 (4)리스트 \n",
            "변수\n",
            "정답입니다. !\n",
            "다음은 어떤 단어에 대한 설명일까요? \n",
            "\"작업을 수행하는 문장들의 집합에 이름을 붙인것\"\n",
            "(1)파이썬 (2)변수 (3)함수 (4)리스트 \n",
            "함수\n",
            "정답입니다. !\n",
            "다음은 어떤 단어에 대한 설명일까요? \n",
            "\"서로 관련이 없는 항목들의 모임\"\n",
            "(1)파이썬 (2)변수 (3)함수 (4)리스트 \n",
            "리스트\n",
            "정답입니다. !\n"
          ]
        }
      ]
    }
  ]
}